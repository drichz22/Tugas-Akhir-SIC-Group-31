{
 "cells": [
  {
   "cell_type": "code",
   "execution_count": 1,
   "metadata": {},
   "outputs": [
    {
     "name": "stdout",
     "output_type": "stream",
     "text": [
      "Requirement already satisfied: pyserial in c:\\users\\aldri\\appdata\\local\\programs\\python\\python37\\lib\\site-packages (3.5)\n",
      "Requirement already satisfied: numpy in c:\\users\\aldri\\appdata\\local\\programs\\python\\python37\\lib\\site-packages (1.21.6)\n",
      "Requirement already satisfied: opencv-python in c:\\users\\aldri\\appdata\\local\\programs\\python\\python37\\lib\\site-packages (4.9.0.80)\n",
      "Note: you may need to restart the kernel to use updated packages.\n"
     ]
    },
    {
     "name": "stderr",
     "output_type": "stream",
     "text": [
      "WARNING: You are using pip version 19.2.3, however version 24.0 is available.\n",
      "You should consider upgrading via the 'python -m pip install --upgrade pip' command.\n"
     ]
    }
   ],
   "source": [
    "%pip install pyserial numpy opencv-python"
   ]
  },
  {
   "cell_type": "code",
   "execution_count": null,
   "metadata": {},
   "outputs": [],
   "source": [
    "import serial\n",
    "import numpy as np\n",
    "import cv2\n",
    "import time\n",
    "\n",
    "ser = serial.Serial('/dev/ttyUSB0', 115200)  \n",
    "frame_size = 160 * 120 * 2  \n",
    "\n",
    "output_directory = \"images\"\n",
    "os.makedirs(output_directory, exist_ok=True)\n",
    "\n",
    "def read_frame():\n",
    "    frame_data = bytearray()\n",
    "    while len(frame_data) < frame_size:\n",
    "        frame_data.extend(ser.read(frame_size - len(frame_data)))\n",
    "    return frame_data\n",
    "\n",
    "def save_image(frame_data, frame_number):\n",
    "    frame_array = np.frombuffer(frame_data, dtype=np.uint8)\n",
    "    frame_array = frame_array.reshape((120, 160, 2))\n",
    "    bgr_frame = cv2.cvtColor(frame_array, cv2.COLOR_BGR5652BGR)\n",
    "    filename = os.path.join(output_directory, f'image_{frame_number}.png')\n",
    "    cv2.imwrite(filename, bgr_frame)\n",
    "    print(f'Saved {filename}')\n",
    "\n",
    "def main():\n",
    "    frame_number = 0\n",
    "    while True:\n",
    "        frame_data = read_frame()\n",
    "        save_image(frame_data, frame_number)\n",
    "        frame_number += 1\n",
    "        time.sleep(1)  \n",
    "\n",
    "if __name__ == '__main__':\n",
    "    main()"
   ]
  }
 ],
 "metadata": {
  "kernelspec": {
   "display_name": "Python 3",
   "language": "python",
   "name": "python3"
  },
  "language_info": {
   "codemirror_mode": {
    "name": "ipython",
    "version": 3
   },
   "file_extension": ".py",
   "mimetype": "text/x-python",
   "name": "python",
   "nbconvert_exporter": "python",
   "pygments_lexer": "ipython3",
   "version": "3.7.6"
  }
 },
 "nbformat": 4,
 "nbformat_minor": 2
}
